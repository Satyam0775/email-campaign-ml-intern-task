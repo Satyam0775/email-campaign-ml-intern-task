{
 "cells": [
  {
   "cell_type": "code",
   "execution_count": 2,
   "id": "a9758aab",
   "metadata": {},
   "outputs": [],
   "source": [
    "import pandas as pd\n",
    "\n",
    "# Load the data using raw strings\n",
    "email_df = pd.read_csv(r'C:\\Users\\satya\\Downloads\\Email Marketing Campaign\\email (1)\\email_table.csv')\n",
    "opened_df = pd.read_csv(r'C:\\Users\\satya\\Downloads\\Email Marketing Campaign\\email (1)\\email_opened_table.csv')\n",
    "clicked_df = pd.read_csv(r'C:\\Users\\satya\\Downloads\\Email Marketing Campaign\\email (1)\\link_clicked_table.csv')\n",
    "\n",
    "# Add binary columns\n",
    "email_df['email_opened'] = email_df['email_id'].isin(opened_df['email_id']).astype(int)\n",
    "email_df['link_clicked'] = email_df['email_id'].isin(clicked_df['email_id']).astype(int)\n"
   ]
  },
  {
   "cell_type": "code",
   "execution_count": 3,
   "id": "99533b08",
   "metadata": {},
   "outputs": [
    {
     "name": "stdout",
     "output_type": "stream",
     "text": [
      "Open Rate: 10.35%\n",
      "Click-Through Rate: 2.12%\n"
     ]
    }
   ],
   "source": [
    "total_emails = len(email_df)\n",
    "open_rate = email_df['email_opened'].sum() / total_emails * 100\n",
    "click_rate = email_df['link_clicked'].sum() / total_emails * 100\n",
    "\n",
    "print(f\"Open Rate: {open_rate:.2f}%\")\n",
    "print(f\"Click-Through Rate: {click_rate:.2f}%\")\n"
   ]
  },
  {
   "cell_type": "code",
   "execution_count": 4,
   "id": "bd2fcf7d",
   "metadata": {},
   "outputs": [
    {
     "name": "stdout",
     "output_type": "stream",
     "text": [
      "              precision    recall  f1-score   support\n",
      "\n",
      "           0       0.98      1.00      0.99     19576\n",
      "           1       0.07      0.01      0.02       424\n",
      "\n",
      "    accuracy                           0.98     20000\n",
      "   macro avg       0.53      0.50      0.50     20000\n",
      "weighted avg       0.96      0.98      0.97     20000\n",
      "\n"
     ]
    }
   ],
   "source": [
    "from sklearn.model_selection import train_test_split\n",
    "from sklearn.ensemble import RandomForestClassifier\n",
    "from sklearn.metrics import classification_report\n",
    "\n",
    "# Feature engineering\n",
    "df = email_df.copy()\n",
    "df = pd.get_dummies(df, columns=['email_text', 'email_version', 'weekday', 'user_country'], drop_first=True)\n",
    "\n",
    "X = df.drop(columns=['email_id', 'email_opened', 'link_clicked'])\n",
    "y = df['link_clicked']\n",
    "\n",
    "X_train, X_test, y_train, y_test = train_test_split(X, y, stratify=y, test_size=0.2, random_state=42)\n",
    "\n",
    "# Train a model\n",
    "model = RandomForestClassifier(random_state=42)\n",
    "model.fit(X_train, y_train)\n",
    "y_pred = model.predict(X_test)\n",
    "\n",
    "print(classification_report(y_test, y_pred))\n"
   ]
  },
  {
   "cell_type": "code",
   "execution_count": 6,
   "id": "56dc6c05",
   "metadata": {},
   "outputs": [
    {
     "name": "stdout",
     "output_type": "stream",
     "text": [
      "CTR in top 20% group: 9.25% vs Original CTR: 2.12%\n"
     ]
    }
   ],
   "source": [
    "# Predict probabilities\n",
    "df['predicted_proba'] = model.predict_proba(X)[:, 1]\n",
    "top_df = df.sort_values('predicted_proba', ascending=False).head(int(0.2 * len(df)))  # top 20%\n",
    "\n",
    "# Estimate CTR in top group\n",
    "improved_ctr = top_df['link_clicked'].sum() / len(top_df) * 100\n",
    "print(f\"CTR in top 20% group: {improved_ctr:.2f}% vs Original CTR: {click_rate:.2f}%\")\n"
   ]
  },
  {
   "cell_type": "code",
   "execution_count": null,
   "id": "1205f205",
   "metadata": {},
   "outputs": [
    {
     "name": "stdout",
     "output_type": "stream",
     "text": [
      "email_text\n",
      "long_email     1.853767\n",
      "short_email    2.387177\n",
      "Name: link_clicked, dtype: float64\n",
      "email_version\n",
      "generic         1.513673\n",
      "personalized    2.729409\n",
      "Name: link_clicked, dtype: float64\n",
      "weekday\n",
      "Friday       1.403682\n",
      "Monday       2.290608\n",
      "Saturday     1.784611\n",
      "Sunday       1.675123\n",
      "Thursday     2.444491\n",
      "Tuesday      2.488864\n",
      "Wednesday    2.761999\n",
      "Name: link_clicked, dtype: float64\n",
      "purchase_bucket\n",
      "0       0.050443\n",
      "1       1.119919\n",
      "2-5     1.850862\n",
      "6-10    3.645062\n",
      "10+     6.903711\n",
      "Name: link_clicked, dtype: float64\n"
     ]
    },
    {
     "name": "stderr",
     "output_type": "stream",
     "text": [
      "C:\\Users\\satya\\AppData\\Local\\Temp\\ipykernel_22672\\2460895142.py:12: FutureWarning: The default of observed=False is deprecated and will be changed to True in a future version of pandas. Pass observed=False to retain current behavior or observed=True to adopt the future default and silence this warning.\n",
      "  print(email_df.groupby('purchase_bucket')['link_clicked'].mean() * 100)\n"
     ]
    }
   ],
   "source": [
    "# CTR by text version\n",
    "print(email_df.groupby('email_text')['link_clicked'].mean() * 100)\n",
    "\n",
    "# CTR by personalization\n",
    "print(email_df.groupby('email_version')['link_clicked'].mean() * 100)\n",
    "\n",
    "# CTR by weekday\n",
    "print(email_df.groupby('weekday')['link_clicked'].mean() * 100)\n",
    "\n",
    "# CTR by user past purchases\n",
    "email_df['purchase_bucket'] = pd.cut(email_df['user_past_purchases'], bins=[-1,0,1,5,10,100], labels=['0','1','2-5','6-10','10+'])\n",
    "print(email_df.groupby('purchase_bucket')['link_clicked'].mean() * 100)\n"
   ]
  },
  {
   "cell_type": "code",
   "execution_count": null,
   "id": "0de28eda",
   "metadata": {},
   "outputs": [],
   "source": []
  }
 ],
 "metadata": {
  "kernelspec": {
   "display_name": "base",
   "language": "python",
   "name": "python3"
  },
  "language_info": {
   "codemirror_mode": {
    "name": "ipython",
    "version": 3
   },
   "file_extension": ".py",
   "mimetype": "text/x-python",
   "name": "python",
   "nbconvert_exporter": "python",
   "pygments_lexer": "ipython3",
   "version": "3.12.3"
  }
 },
 "nbformat": 4,
 "nbformat_minor": 5
}
